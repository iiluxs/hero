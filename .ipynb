{
 "cells": [
  {
   "cell_type": "code",
   "execution_count": 7,
   "metadata": {},
   "outputs": [],
   "source": [
    "import requests as rq\n",
    "from rich import print\n",
    "\n",
    "k_analyze_url = 'https://www.y2mate.com/mates/analyzeV2/ajax'\n",
    "k_analyze_url2 = 'https://www.y2mate.com/mates/convertV2/index'\n",
    "\n",
    "k_query_txt = 'https://www.youtube.com/watch?v=OOLMITiXv6c'\n",
    "k_page = 'home'\n",
    "page_hl = 'en'\n",
    "\n",
    "\n",
    "data = {\n",
    "    'k_query': k_query_txt,\n",
    "    'k_page': k_page,\n",
    "    'hl': page_hl,\n",
    "    'q_auto': 1\n",
    "}\n",
    "\n",
    "res = rq.post(k_analyze_url, data)\n",
    "\n",
    "with open('.json', 'wb+') as file:\n",
    "    file.write(res.text.encode())"
   ]
  },
  {
   "cell_type": "code",
   "execution_count": 10,
   "metadata": {},
   "outputs": [
    {
     "data": {
      "text/html": [
       "<pre style=\"white-space:pre;overflow-x:auto;line-height:normal;font-family:Menlo,'DejaVu Sans Mono',consolas,'Courier New',monospace\"><span style=\"color: #008080; text-decoration-color: #008080; font-weight: bold\">200</span>\n",
       "</pre>\n"
      ],
      "text/plain": [
       "\u001b[1;36m200\u001b[0m\n"
      ]
     },
     "metadata": {},
     "output_type": "display_data"
    },
    {
     "data": {
      "text/html": [
       "<pre style=\"white-space:pre;overflow-x:auto;line-height:normal;font-family:Menlo,'DejaVu Sans Mono',consolas,'Courier New',monospace\"><span style=\"font-weight: bold\">{</span><span style=\"color: #008000; text-decoration-color: #008000\">\"status\"</span>:<span style=\"color: #008000; text-decoration-color: #008000\">\"ok\"</span>,<span style=\"color: #008000; text-decoration-color: #008000\">\"mess\"</span>:<span style=\"color: #008000; text-decoration-color: #008000\">\"\"</span>,<span style=\"color: #008000; text-decoration-color: #008000\">\"c_status\"</span>:<span style=\"color: #008000; text-decoration-color: #008000\">\"CONVERTED\"</span>,<span style=\"color: #008000; text-decoration-color: #008000\">\"vid\"</span>:<span style=\"color: #008000; text-decoration-color: #008000\">\"OOLMITiXv6c\"</span>,<span style=\"color: #008000; text-decoration-color: #008000\">\"title\"</span>:<span style=\"color: #008000; text-decoration-color: #008000\">\"Stephen Sanchez - Only Girl (Lyric </span>\n",
       "<span style=\"color: #008000; text-decoration-color: #008000\">Video)\"</span>,<span style=\"color: #008000; text-decoration-color: #008000\">\"ftype\"</span>:<span style=\"color: #008000; text-decoration-color: #008000\">\"mp4\"</span>,<span style=\"color: #008000; text-decoration-color: #008000\">\"fquality\"</span>:<span style=\"color: #008000; text-decoration-color: #008000\">\"1080p </span>\n",
       "<span style=\"color: #008000; text-decoration-color: #008000\">HFR\"</span>,<span style=\"color: #008000; text-decoration-color: #008000\">\"dlink\"</span>:<span style=\"color: #008000; text-decoration-color: #008000\">\"https:\\/\\/dl227.dlmate53.xyz\\/?file=M3R4SUNiN3JsOHJ6WWQ2a3NQS1Y5ZGlxVlZIOCtyZ1hqTkFxenhVdFNwaE5xSTRuM</span>\n",
       "<span style=\"color: #008000; text-decoration-color: #008000\">HY3cmFPWkJJcjVFNm9Pd0haVjQ3Q3pSY3B1OU9RdU11YWQzRWl2UjUvQVZpM0hDNDlwbVg4QjlVeW5vbXZLcnkzUWtyeDc2YTh6WUY3MFRQMUYyc3hR</span>\n",
       "<span style=\"color: #008000; text-decoration-color: #008000\">bWdRQ1NpYVB5bGpyVW5sU1pybldWT2ljMTQydFRiZVgyMmEwRzJIbWZLZkRoM00wZ2ltQ2Erb3BBeVBXSnZRenpudU5vNEk4bUR4WW1LOGtieTUvejR</span>\n",
       "<span style=\"color: #008000; text-decoration-color: #008000\">QUEVvRVFTM2NoYXlVUytyTC95VTgxdFMvVElLSEZqS0g4TjY3Yz0%3D\"</span><span style=\"font-weight: bold\">}</span>\n",
       "</pre>\n"
      ],
      "text/plain": [
       "\u001b[1m{\u001b[0m\u001b[32m\"status\"\u001b[0m:\u001b[32m\"ok\"\u001b[0m,\u001b[32m\"mess\"\u001b[0m:\u001b[32m\"\"\u001b[0m,\u001b[32m\"c_status\"\u001b[0m:\u001b[32m\"CONVERTED\"\u001b[0m,\u001b[32m\"vid\"\u001b[0m:\u001b[32m\"OOLMITiXv6c\"\u001b[0m,\u001b[32m\"title\"\u001b[0m:\u001b[32m\"Stephen Sanchez - Only Girl \u001b[0m\u001b[32m(\u001b[0m\u001b[32mLyric \u001b[0m\n",
       "\u001b[32mVideo\u001b[0m\u001b[32m)\u001b[0m\u001b[32m\"\u001b[0m,\u001b[32m\"ftype\"\u001b[0m:\u001b[32m\"mp4\"\u001b[0m,\u001b[32m\"fquality\"\u001b[0m:\u001b[32m\"1080p \u001b[0m\n",
       "\u001b[32mHFR\"\u001b[0m,\u001b[32m\"dlink\"\u001b[0m:\u001b[32m\"https:\\/\\/dl227.dlmate53.xyz\\/?\u001b[0m\u001b[32mfile\u001b[0m\u001b[32m=\u001b[0m\u001b[32mM3R4SUNiN3JsOHJ6WWQ2a3NQS1Y5ZGlxVlZIOCtyZ1hqTkFxenhVdFNwaE5xSTRuM\u001b[0m\n",
       "\u001b[32mHY3cmFPWkJJcjVFNm9Pd0haVjQ3Q3pSY3B1OU9RdU11YWQzRWl2UjUvQVZpM0hDNDlwbVg4QjlVeW5vbXZLcnkzUWtyeDc2YTh6WUY3MFRQMUYyc3hR\u001b[0m\n",
       "\u001b[32mbWdRQ1NpYVB5bGpyVW5sU1pybldWT2ljMTQydFRiZVgyMmEwRzJIbWZLZkRoM00wZ2ltQ2Erb3BBeVBXSnZRenpudU5vNEk4bUR4WW1LOGtieTUvejR\u001b[0m\n",
       "\u001b[32mQUEVvRVFTM2NoYXlVUytyTC95VTgxdFMvVElLSEZqS0g4TjY3Yz0\u001b[0m\u001b[32m%3D\"\u001b[0m\u001b[1m}\u001b[0m\n"
      ]
     },
     "metadata": {},
     "output_type": "display_data"
    }
   ],
   "source": [
    "import requests as rq\n",
    "from rich import print\n",
    "\n",
    "k_analyze_url = 'https://www.y2mate.com/mates/analyzeV2/ajax'\n",
    "k_analyze_url2 = 'https://www.y2mate.com/mates/convertV2/index'\n",
    "\n",
    "k_query_txt = 'https://www.youtube.com/watch?v=OOLMITiXv6c'\n",
    "k_page = 'home'\n",
    "page_hl = 'en'\n",
    "\n",
    "\n",
    "data = {\n",
    "    'vid': 'OOLMITiXv6c',\n",
    "    'k': 'joEQDtWzxp+gasL176vVosT8Al7j4qtyhNgqkwxyUfMcts0H8da8cpkdYPNdg932X4oB'\n",
    "}\n",
    "\n",
    "\n",
    "req = rq.post(k_analyze_url2, data)\n",
    "\n",
    "print(req.status_code)\n",
    "print(req.text)\n",
    "\n",
    "\n"
   ]
  }
 ],
 "metadata": {
  "kernelspec": {
   "display_name": "Python 3",
   "language": "python",
   "name": "python3"
  },
  "language_info": {
   "codemirror_mode": {
    "name": "ipython",
    "version": 3
   },
   "file_extension": ".py",
   "mimetype": "text/x-python",
   "name": "python",
   "nbconvert_exporter": "python",
   "pygments_lexer": "ipython3",
   "version": "3.11.1"
  },
  "orig_nbformat": 4
 },
 "nbformat": 4,
 "nbformat_minor": 2
}
